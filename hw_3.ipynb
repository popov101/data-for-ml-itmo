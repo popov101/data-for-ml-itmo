{
 "cells": [
  {
   "cell_type": "markdown",
   "id": "82f13d4d",
   "metadata": {},
   "source": [
    "# Домашнее задание №3"
   ]
  },
  {
   "cell_type": "code",
   "execution_count": 1,
   "id": "5144efa4",
   "metadata": {},
   "outputs": [],
   "source": [
    "import xml.etree.ElementTree as ET\n",
    "from sklearn.metrics import cohen_kappa_score\n",
    "import pandas as pd\n",
    "import numpy as np\n",
    "from collections import Counter\n",
    "import matplotlib.pyplot as plt"
   ]
  },
  {
   "cell_type": "markdown",
   "id": "8b4dcd7a",
   "metadata": {},
   "source": [
    "## Метод и результаты разметки"
   ]
  },
  {
   "cell_type": "markdown",
   "id": "262d8091",
   "metadata": {},
   "source": [
    "Разметка осуществлялась в CVAT двумя разметчиками. Задача была разметить главные фотографии объявлений аренды квартир на несколько классов по признаку ремонта: без ремонта, невозможно определить, косметический ремонт, евроремонт, дизайнерский ремонт.\n",
    "\n",
    "Посмотрим на результаты разметки. Выведем коэффициент согласованности и абсолютное число несовпадений:"
   ]
  },
  {
   "cell_type": "code",
   "execution_count": 2,
   "id": "6297c073",
   "metadata": {},
   "outputs": [
    {
     "name": "stdout",
     "output_type": "stream",
     "text": [
      "Количество несовпадений: 305\n",
      "Коэффициент Каппа Коэна: 0.47\n"
     ]
    }
   ],
   "source": [
    "def parse_image_labels(file_path):\n",
    "    tree = ET.parse(file_path)\n",
    "    root = tree.getroot()\n",
    "    labels = {}\n",
    "\n",
    "    for image in root.findall('.//image'):\n",
    "        image_id = image.get('id')\n",
    "        label = image.find('.//tag').get('label')\n",
    "        labels[image_id] = label\n",
    "    \n",
    "    return labels\n",
    "\n",
    "def count_disagreements(labels1, labels2):\n",
    "    disagreements = sum(1 for image_id in labels1 if labels1.get(image_id) != labels2.get(image_id))\n",
    "    return disagreements\n",
    "\n",
    "def calculate_cohen_kappa(labels1, labels2):\n",
    "    common_ids = sorted(set(labels1.keys()).intersection(labels2.keys()))\n",
    "    labels_list1 = [labels1[image_id] for image_id in common_ids]\n",
    "    labels_list2 = [labels2[image_id] for image_id in common_ids]\n",
    "    \n",
    "    return cohen_kappa_score(labels_list1, labels_list2)\n",
    "\n",
    "file1 = 'C:/Users/popov/markedup/annotations1.xml'\n",
    "file2 = 'C:/Users/popov/markedup/annotations2.xml'\n",
    "\n",
    "labels_file1 = parse_image_labels(file1)\n",
    "labels_file2 = parse_image_labels(file2)\n",
    "\n",
    "# Подсчет несовпадений\n",
    "disagreements = count_disagreements(labels_file1, labels_file2)\n",
    "print(f'Количество несовпадений: {disagreements}')\n",
    "\n",
    "# Коэффициент Каппа Коэна\n",
    "kappa_score = calculate_cohen_kappa(labels_file1, labels_file2)\n",
    "print(f'Коэффициент Каппа Коэна: {kappa_score:.2f}')"
   ]
  },
  {
   "cell_type": "markdown",
   "id": "f4e9c71e",
   "metadata": {},
   "source": [
    "Полученный коэффициент Каппа Коэна указывает на умеренную согласованность меток. В абсолютном эквиваленте несогласованность составила 305 меток из 1000.\n",
    "\n",
    "В таких случаях для слияния меток используется метка большинства, однако в нашем случае разметчиков было всего 2, поэтому для вычленения консенсуса я принял решение выбрать в спорных случаях метки, с которыми больше согласен, в соответствии с ТЗ.\n",
    "\n",
    "Посмотрим на результат. Реализуем функцию поиска пропусков и дубликатов:"
   ]
  },
  {
   "cell_type": "code",
   "execution_count": 3,
   "id": "e2628769",
   "metadata": {},
   "outputs": [],
   "source": [
    "def check_for_missing_and_duplicates(file_path):\n",
    "    tree = ET.parse(file_path)\n",
    "    root = tree.getroot()\n",
    "    image_ids = set()\n",
    "    duplicates = set()\n",
    "\n",
    "    for image in root.findall('.//image'):\n",
    "        image_id = image.get('id')\n",
    "        if image_id in image_ids:\n",
    "            duplicates.add(image_id)\n",
    "        else:\n",
    "            image_ids.add(image_id)\n",
    "\n",
    "        tags = image.findall('.//tag')\n",
    "        if len(tags) != 1:\n",
    "            print(f'ID {image_id} имеет не одну метку.')\n",
    "    \n",
    "    if duplicates:\n",
    "        print(f'ID дубликатов: {duplicates}')\n",
    "    else:\n",
    "        print('Нет дубликатов.')\n",
    "    \n",
    "    all_labels = [image.find('.//tag').get('label') for image in root.findall('.//image') if image.find('.//tag') is not None]\n",
    "    if len(all_labels) < len(image_ids):\n",
    "        print('Есть пропуски.')\n",
    "    else:\n",
    "        print('Нет пропусков.')\n",
    "\n",
    "\n",
    "\n",
    "file_path = 'C:/Users/popov/markedup/consensus.xml'\n"
   ]
  },
  {
   "cell_type": "code",
   "execution_count": 4,
   "id": "897a8b58",
   "metadata": {},
   "outputs": [
    {
     "name": "stdout",
     "output_type": "stream",
     "text": [
      "Нет дубликатов.\n",
      "Нет пропусков.\n"
     ]
    }
   ],
   "source": [
    "\n",
    "check_for_missing_and_duplicates(file_path)"
   ]
  },
  {
   "cell_type": "markdown",
   "id": "74ce10ed",
   "metadata": {},
   "source": [
    "Это отличный результат - пропусков и дубликатов нет, а также каждое фото имеет по 1 метке.\n",
    "\n",
    "Построим график распределения меток классов:"
   ]
  },
  {
   "cell_type": "code",
   "execution_count": 5,
   "id": "3713cc49",
   "metadata": {},
   "outputs": [],
   "source": [
    "def visualize_label_distribution(file_path):\n",
    "    tree = ET.parse(file_path)\n",
    "    root = tree.getroot()\n",
    "\n",
    "    labels = [image.find('.//tag').get('label') for image in root.findall('.//image') if image.find('.//tag') is not None]\n",
    "\n",
    "    label_counts = Counter(labels)\n",
    "\n",
    "    sorted_labels = sorted(label_counts.items(), key=lambda x: x[1], reverse=True)\n",
    "\n",
    "    labels, counts = zip(*sorted_labels)\n",
    "\n",
    "    plt.figure(figsize=(10, 6))\n",
    "    bars = plt.bar(labels, counts, color='skyblue')\n",
    "    plt.xlabel('Метка')\n",
    "    plt.ylabel('Количество')\n",
    "    plt.title('Распределение меток')\n",
    "    plt.xticks(rotation=45)\n",
    "    plt.tight_layout()\n",
    "\n",
    "    for bar, count in zip(bars, counts):\n",
    "        yval = bar.get_height()\n",
    "        plt.text(bar.get_x() + bar.get_width()/2, yval, int(count), va='bottom', ha='center')\n",
    "\n",
    "    plt.show()"
   ]
  },
  {
   "cell_type": "code",
   "execution_count": 6,
   "id": "32e9b72b",
   "metadata": {},
   "outputs": [
    {
     "data": {
      "image/png": "[encoded data removed]",
      "text/plain": [
       "<Figure size 1000x600 with 1 Axes>"
      ]
     },
     "metadata": {},
     "output_type": "display_data"
    }
   ],
   "source": [
    "visualize_label_distribution(file_path)"
   ]
  },
  {
   "cell_type": "markdown",
   "id": "c3e6afd4",
   "metadata": {},
   "source": [
    "На графике видно, что большинство квартир имеют косметический ремонт (559) и евроремонт (344), что говорит о популярности и доступности этих вариантов. Категории \"нельзя определить\" (68) и \"дизайнерский ремонт\" (25) встречаются реже, а без ремонта всего 4 квартиры."
   ]
  },
  {
   "cell_type": "markdown",
   "id": "8f697e37",
   "metadata": {},
   "source": [
    "## Сохранение разметки"
   ]
  },
  {
   "cell_type": "markdown",
   "id": "d81d8fb8",
   "metadata": {},
   "source": [
    "Загрузим датасет из предыдущего задания:"
   ]
  },
  {
   "cell_type": "code",
   "execution_count": 7,
   "id": "301e467e",
   "metadata": {},
   "outputs": [],
   "source": [
    "df = pd.read_csv('C:/Users/popov/mirkvartir_cleaned.csv', sep=';')"
   ]
  },
  {
   "cell_type": "markdown",
   "id": "916be1a1",
   "metadata": {},
   "source": [
    "Извлечем финальные метки:"
   ]
  },
  {
   "cell_type": "code",
   "execution_count": 8,
   "id": "fb064310",
   "metadata": {},
   "outputs": [],
   "source": [
    "def extract_labels_from_xml(file_path):\n",
    "    tree = ET.parse(file_path)\n",
    "    root = tree.getroot()\n",
    "    image_labels = {}\n",
    "\n",
    "    for image in root.findall('.//image'):\n",
    "        image_name = image.get('name')\n",
    "        tag = image.find('.//tag')\n",
    "        if tag is not None:\n",
    "            label = tag.get('label')\n",
    "            image_labels[image_name] = label\n",
    "\n",
    "    return image_labels\n",
    "\n",
    "labels = extract_labels_from_xml('C:/Users/popov/markedup/consensus.xml')"
   ]
  },
  {
   "cell_type": "markdown",
   "id": "becec8f5",
   "metadata": {},
   "source": [
    "Извлечем из url имена фото:"
   ]
  },
  {
   "cell_type": "code",
   "execution_count": 9,
   "id": "a6e165ad",
   "metadata": {},
   "outputs": [],
   "source": [
    "\n",
    "def extract_image_name(url):\n",
    "    return url.split('/')[-1] if isinstance(url, str) else None"
   ]
  },
  {
   "cell_type": "code",
   "execution_count": 10,
   "id": "e1abef1f",
   "metadata": {},
   "outputs": [],
   "source": [
    "df['main_photo_name'] = df['main_photo_url'].apply(extract_image_name)\n",
    "\n",
    "df['main_photo_label'] = df['main_photo_name'].map(labels)"
   ]
  },
  {
   "cell_type": "markdown",
   "id": "89d8c951",
   "metadata": {},
   "source": [
    "Проверим, сколько меток добавилось в датасет:"
   ]
  },
  {
   "cell_type": "code",
   "execution_count": 11,
   "id": "531fc835",
   "metadata": {},
   "outputs": [
    {
     "data": {
      "text/plain": [
       "np.int64(1001)"
      ]
     },
     "execution_count": 11,
     "metadata": {},
     "output_type": "execute_result"
    }
   ],
   "source": [
    "len(df) - df['main_photo_label'].isna().sum()"
   ]
  },
  {
   "cell_type": "markdown",
   "id": "9d161811",
   "metadata": {},
   "source": [
    "Каким-то образом появилась одна лишняя метка:"
   ]
  },
  {
   "cell_type": "code",
   "execution_count": 12,
   "id": "8ffb9a4f",
   "metadata": {},
   "outputs": [
    {
     "data": {
      "text/plain": [
       "main_photo_label\n",
       "без ремонта               4\n",
       "дизайнерский ремонт      25\n",
       "евроремонт              345\n",
       "косметический ремонт    559\n",
       "нельзя определить        68\n",
       "Name: id, dtype: int64"
      ]
     },
     "execution_count": 12,
     "metadata": {},
     "output_type": "execute_result"
    }
   ],
   "source": [
    "df.groupby('main_photo_label')['id'].nunique()"
   ]
  },
  {
   "cell_type": "markdown",
   "id": "8480f383",
   "metadata": {},
   "source": [
    "Итак, мы нашли неявный дубликат:"
   ]
  },
  {
   "cell_type": "code",
   "execution_count": 13,
   "id": "a99bdbed",
   "metadata": {},
   "outputs": [
    {
     "data": {
      "text/html": [
       "<div>\n",
       "<style scoped>\n",
       "    .dataframe tbody tr th:only-of-type {\n",
       "        vertical-align: middle;\n",
       "    }\n",
       "\n",
       "    .dataframe tbody tr th {\n",
       "        vertical-align: top;\n",
       "    }\n",
       "\n",
       "    .dataframe thead th {\n",
       "        text-align: right;\n",
       "    }\n",
       "</style>\n",
       "<table border=\"1\" class=\"dataframe\">\n",
       "  <thead>\n",
       "    <tr style=\"text-align: right;\">\n",
       "      <th></th>\n",
       "      <th>id</th>\n",
       "      <th>url</th>\n",
       "      <th>title</th>\n",
       "      <th>description</th>\n",
       "      <th>price</th>\n",
       "      <th>latitude</th>\n",
       "      <th>longitude</th>\n",
       "      <th>metro_name</th>\n",
       "      <th>address</th>\n",
       "      <th>agency_name</th>\n",
       "      <th>...</th>\n",
       "      <th>floor</th>\n",
       "      <th>total_floors</th>\n",
       "      <th>price_per_sqm</th>\n",
       "      <th>dist_to_metro</th>\n",
       "      <th>dist_to_park</th>\n",
       "      <th>dist_to_water</th>\n",
       "      <th>dist_to_airport</th>\n",
       "      <th>nearest_metro</th>\n",
       "      <th>main_photo_name</th>\n",
       "      <th>main_photo_label</th>\n",
       "    </tr>\n",
       "  </thead>\n",
       "  <tbody>\n",
       "    <tr>\n",
       "      <th>256</th>\n",
       "      <td>341023568</td>\n",
       "      <td>https://arenda.mirkvartir.ru/341023568/</td>\n",
       "      <td>2-комн., 60 м², 10/12 этаж</td>\n",
       "      <td>Сдается в длительную аренду двушка площадью 60...</td>\n",
       "      <td>95000</td>\n",
       "      <td>59.89739</td>\n",
       "      <td>30.330402</td>\n",
       "      <td>Московские ворота</td>\n",
       "      <td>Санкт-Петербург, Черниговская ул., 17</td>\n",
       "      <td>Домклик</td>\n",
       "      <td>...</td>\n",
       "      <td>10.0</td>\n",
       "      <td>12.0</td>\n",
       "      <td>1583.333333</td>\n",
       "      <td>866.529987</td>\n",
       "      <td>455.656379</td>\n",
       "      <td>1326.608688</td>\n",
       "      <td>11466.893072</td>\n",
       "      <td>Московские ворота</td>\n",
       "      <td>12dd9654-92c1-40cb-8273-722707235eb3.jpg</td>\n",
       "      <td>евроремонт</td>\n",
       "    </tr>\n",
       "    <tr>\n",
       "      <th>2105</th>\n",
       "      <td>340631193</td>\n",
       "      <td>https://arenda.mirkvartir.ru/340631193/</td>\n",
       "      <td>2-комн., 58 м², 10/12 этаж</td>\n",
       "      <td>Сдается в аренду 2-комнатная квартира площадью...</td>\n",
       "      <td>110000</td>\n",
       "      <td>59.89739</td>\n",
       "      <td>30.330402</td>\n",
       "      <td>Московские ворота</td>\n",
       "      <td>Санкт-Петербург, Черниговская ул., 17</td>\n",
       "      <td>Домклик</td>\n",
       "      <td>...</td>\n",
       "      <td>10.0</td>\n",
       "      <td>12.0</td>\n",
       "      <td>1896.551724</td>\n",
       "      <td>866.529987</td>\n",
       "      <td>455.656379</td>\n",
       "      <td>1326.608688</td>\n",
       "      <td>11466.893072</td>\n",
       "      <td>Московские ворота</td>\n",
       "      <td>12dd9654-92c1-40cb-8273-722707235eb3.jpg</td>\n",
       "      <td>евроремонт</td>\n",
       "    </tr>\n",
       "  </tbody>\n",
       "</table>\n",
       "<p>2 rows × 27 columns</p>\n",
       "</div>"
      ],
      "text/plain": [
       "             id                                      url  \\\n",
       "256   341023568  https://arenda.mirkvartir.ru/341023568/   \n",
       "2105  340631193  https://arenda.mirkvartir.ru/340631193/   \n",
       "\n",
       "                           title  \\\n",
       "256   2-комн., 60 м², 10/12 этаж   \n",
       "2105  2-комн., 58 м², 10/12 этаж   \n",
       "\n",
       "                                            description   price  latitude  \\\n",
       "256   Сдается в длительную аренду двушка площадью 60...   95000  59.89739   \n",
       "2105  Сдается в аренду 2-комнатная квартира площадью...  110000  59.89739   \n",
       "\n",
       "      longitude         metro_name                                address  \\\n",
       "256   30.330402  Московские ворота  Санкт-Петербург, Черниговская ул., 17   \n",
       "2105  30.330402  Московские ворота  Санкт-Петербург, Черниговская ул., 17   \n",
       "\n",
       "     agency_name  ...  floor total_floors price_per_sqm dist_to_metro  \\\n",
       "256      Домклик  ...   10.0         12.0   1583.333333    866.529987   \n",
       "2105     Домклик  ...   10.0         12.0   1896.551724    866.529987   \n",
       "\n",
       "     dist_to_park  dist_to_water  dist_to_airport      nearest_metro  \\\n",
       "256    455.656379    1326.608688     11466.893072  Московские ворота   \n",
       "2105   455.656379    1326.608688     11466.893072  Московские ворота   \n",
       "\n",
       "                               main_photo_name  main_photo_label  \n",
       "256   12dd9654-92c1-40cb-8273-722707235eb3.jpg        евроремонт  \n",
       "2105  12dd9654-92c1-40cb-8273-722707235eb3.jpg        евроремонт  \n",
       "\n",
       "[2 rows x 27 columns]"
      ]
     },
     "execution_count": 13,
     "metadata": {},
     "output_type": "execute_result"
    }
   ],
   "source": [
    "df[df['main_photo_name'] == '12dd9654-92c1-40cb-8273-722707235eb3.jpg']"
   ]
  },
  {
   "cell_type": "markdown",
   "id": "b774d164",
   "metadata": {},
   "source": [
    "Судя по данным, одна и та же квартира представлена в агрегаторе в двух объявлениях, такое иногда случается, когда агент хочет посмотреть отклики по разным ценам или просто увеличить шансы. Разнятся площади и описания, поэтому пока оставим, как есть."
   ]
  },
  {
   "cell_type": "markdown",
   "id": "c2f881c4",
   "metadata": {},
   "source": [
    "Сохраним результаты разметки для следующего задания в новый датасет:"
   ]
  },
  {
   "cell_type": "code",
   "execution_count": 14,
   "id": "3eb22f34",
   "metadata": {},
   "outputs": [],
   "source": [
    "# df.to_csv('C:/Users/popov/mirkvartir_with_labels.csv', sep=';', index=False)"
   ]
  },
  {
   "cell_type": "markdown",
   "id": "03ee222d",
   "metadata": {},
   "source": [
    "## Приложения"
   ]
  },
  {
   "cell_type": "markdown",
   "id": "f90b84ac",
   "metadata": {},
   "source": [
    "- [**ТЗ**](https://www.notion.so/1926273c27bb80dd9f85fd7cda125eb3?pvs=4)\n",
    "- [**Инструкция по работе с системой CVAT**](https://www.notion.so/1926273c27bb80dd9f85fd7cda125eb3?pvs=4)\n",
    "- Моя рефлексия и ОС от разметчиков - в README, в разделе ДЗ 3"
   ]
  },
  {
   "cell_type": "markdown",
   "id": "5ea2a9ef",
   "metadata": {},
   "source": [
    "## Definition of Done\n",
    "\n",
    "- Возьмите открытый табличный датасет, набор текстовых данных (например, отзывы о продукте) или набор изображений (можно взять из открытых источников).\n",
    "    - ✅ Есть опция, что можете взять, то что было в первом дз\n",
    "- ✅ Напишите ТЗ (в свободной форме) для разметки выбранного датасета. (Для текстового датасета можно предложить разметку семантики, для набора изображений – детекцию или сегментацию). Не забывайте про примеры в ТЗ!\n",
    "- ✅ Добавьте какой-либо валидатор (принимаются подмешивание тестовых кейсов/расчёт метрики согласованности – в этом случае нужно будет предоставить разметку от минимум 2х людей).\n",
    "- ✅ Отправьте ваш собранный (но неразмеченный!) датасет знакомому с курса и предложите разметить по вашему ТЗ. **Получите обратную связь.** Для разметки допустимо использовать одну из онлайн-платформ или самостоятельные инструменты (предоставьте инструмент вашему разметчику).\n",
    "- ✅ Проанализируйте полученные результаты разметки на наличие выбросов/дубликатов/некорректных результатов. Примените методы для их коррекции или удаления. Оцените метрику согласованности, либо квалификацию вашего разметчика на подмешанных тестовых кейсах.\n",
    "- ✅ Порефлексируйте на тему процесса разметки данных и качества полученных результатов."
   ]
  }
 ],
 "metadata": {
  "kernelspec": {
   "display_name": ".venv",
   "language": "python",
   "name": "python3"
  },
  "language_info": {
   "codemirror_mode": {
    "name": "ipython",
    "version": 3
   },
   "file_extension": ".py",
   "mimetype": "text/x-python",
   "name": "python",
   "nbconvert_exporter": "python",
   "pygments_lexer": "ipython3",
   "version": "3.12.1"
  }
 },
 "nbformat": 4,
 "nbformat_minor": 5
}
